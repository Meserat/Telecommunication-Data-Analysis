{
 "cells": [
  {
   "cell_type": "markdown",
   "id": "35173eab",
   "metadata": {},
   "source": [
    "# Import all  modules"
   ]
  },
  {
   "cell_type": "code",
   "execution_count": null,
   "id": "9dfb9972",
   "metadata": {},
   "outputs": [],
   "source": [
    "import pandas as pd\n",
    "import sys\n",
    "import os\n",
    "from sklearn.decomposition import PCA\n",
    "\n",
    "sys.path.append(os.path.abspath(os.path.join('../scripts')))\n",
    "\n",
    "from clean_tellco_dataframe import Tellco\n",
    "from plot_dataframe import Plotter\n",
    "\n",
    "tellco_df = pd.read_csv(\"../data/clean_data.csv\")\n",
    "plot = Plotter()\n",
    "cleaner = Tellco()"
   ]
  },
  {
   "cell_type": "code",
   "execution_count": null,
   "id": "c60b347b",
   "metadata": {},
   "outputs": [],
   "source": [
    "tellco_df.columns.to_list()"
   ]
  },
  {
   "cell_type": "code",
   "execution_count": null,
   "id": "65f7f12d",
   "metadata": {},
   "outputs": [],
   "source": [
    "# get the top 10 handset types\n",
    "tellco_df['Handset Type'].value_counts().head(10)"
   ]
  }
 ],
 "metadata": {
  "kernelspec": {
   "display_name": "Python 3 (ipykernel)",
   "language": "python",
   "name": "python3"
  },
  "language_info": {
   "codemirror_mode": {
    "name": "ipython",
    "version": 3
   },
   "file_extension": ".py",
   "mimetype": "text/x-python",
   "name": "python",
   "nbconvert_exporter": "python",
   "pygments_lexer": "ipython3",
   "version": "3.9.7"
  }
 },
 "nbformat": 4,
 "nbformat_minor": 5
}
